{
 "cells": [
  {
   "cell_type": "markdown",
   "id": "ba7d5db2",
   "metadata": {},
   "source": [
    "## This notebook is purely functions as notes for my final code, so its not really documented, not coherent, you can just find my ideas, and attempts for different results!\n"
   ]
  },
  {
   "cell_type": "markdown",
   "id": "b378fe58",
   "metadata": {},
   "source": [
    "### Importing the neccesery libraries\n"
   ]
  },
  {
   "cell_type": "code",
   "execution_count": 1,
   "id": "2bf939e9",
   "metadata": {},
   "outputs": [],
   "source": [
    "import numpy as np\n",
    "import pandas as pd\n",
    "import matplotlib.pyplot as plt\n",
    "import statsmodels.api as sm\n",
    "import seaborn as sns\n",
    "import sklearn as sk\n",
    "import sklearn.preprocessing as pre\n",
    "sns.set()"
   ]
  },
  {
   "cell_type": "code",
   "execution_count": 2,
   "id": "944203f1",
   "metadata": {},
   "outputs": [],
   "source": [
    "%matplotlib inline"
   ]
  },
  {
   "cell_type": "markdown",
   "id": "ce4cde94",
   "metadata": {},
   "source": [
    "### Data import, removing additional headers from scraping"
   ]
  },
  {
   "cell_type": "code",
   "execution_count": 3,
   "id": "644519ed",
   "metadata": {},
   "outputs": [
    {
     "name": "stderr",
     "output_type": "stream",
     "text": [
      "C:\\ProgramData\\Anaconda3\\lib\\site-packages\\IPython\\core\\interactiveshell.py:3444: DtypeWarning: Columns (3,14) have mixed types.Specify dtype option on import or set low_memory=False.\n",
      "  exec(code_obj, self.user_global_ns, self.user_ns)\n"
     ]
    }
   ],
   "source": [
    "data = pd.read_csv('jarmuvek.csv')"
   ]
  },
  {
   "cell_type": "code",
   "execution_count": 4,
   "id": "b9e01bbc",
   "metadata": {},
   "outputs": [],
   "source": [
    "data.drop(list(data.loc[data[\"Évjárat:\"] == \"Évjárat:\"].index), inplace=True)"
   ]
  },
  {
   "cell_type": "code",
   "execution_count": 5,
   "id": "39ed835f",
   "metadata": {},
   "outputs": [
    {
     "data": {
      "text/html": [
       "<div>\n",
       "<style scoped>\n",
       "    .dataframe tbody tr th:only-of-type {\n",
       "        vertical-align: middle;\n",
       "    }\n",
       "\n",
       "    .dataframe tbody tr th {\n",
       "        vertical-align: top;\n",
       "    }\n",
       "\n",
       "    .dataframe thead th {\n",
       "        text-align: right;\n",
       "    }\n",
       "</style>\n",
       "<table border=\"1\" class=\"dataframe\">\n",
       "  <thead>\n",
       "    <tr style=\"text-align: right;\">\n",
       "      <th></th>\n",
       "      <th>Évjárat:</th>\n",
       "      <th>Állapot:</th>\n",
       "      <th>Kivitel:</th>\n",
       "      <th>Akciós ár:</th>\n",
       "      <th>Vételár:</th>\n",
       "      <th>Vételár EUR:</th>\n",
       "      <th>Üzemanyag:</th>\n",
       "      <th>Hengerűrtartalom:</th>\n",
       "      <th>Teljesítmény:</th>\n",
       "      <th>Sebességváltó fajtája:</th>\n",
       "      <th>...</th>\n",
       "      <th>Szín:</th>\n",
       "      <th>Hajtás:</th>\n",
       "      <th>Ajtók száma:</th>\n",
       "      <th>Szállítható szem. száma:</th>\n",
       "      <th>Kilométeróra állása:</th>\n",
       "      <th>Csomagtartó:</th>\n",
       "      <th>Klíma fajtája:</th>\n",
       "      <th>Műszaki vizsga érvényes:</th>\n",
       "      <th>márka</th>\n",
       "      <th>típus</th>\n",
       "    </tr>\n",
       "  </thead>\n",
       "  <tbody>\n",
       "    <tr>\n",
       "      <th>0</th>\n",
       "      <td>2021/10</td>\n",
       "      <td>Újszerű</td>\n",
       "      <td>Terepjáró</td>\n",
       "      <td>NaN</td>\n",
       "      <td>NaN</td>\n",
       "      <td>€ 20 143</td>\n",
       "      <td>Benzin</td>\n",
       "      <td>1 497 cm³</td>\n",
       "      <td>120 kW, 163 LE</td>\n",
       "      <td>Manuális (6 fokozatú)</td>\n",
       "      <td>...</td>\n",
       "      <td>NaN</td>\n",
       "      <td>Első kerék</td>\n",
       "      <td>5</td>\n",
       "      <td>5 fő</td>\n",
       "      <td>13 km</td>\n",
       "      <td>551 liter</td>\n",
       "      <td>Manuális klíma</td>\n",
       "      <td>2025/10</td>\n",
       "      <td>SSANGYONG</td>\n",
       "      <td>KORANDO</td>\n",
       "    </tr>\n",
       "    <tr>\n",
       "      <th>1</th>\n",
       "      <td>2015/6</td>\n",
       "      <td>Megkímélt</td>\n",
       "      <td>Sedan</td>\n",
       "      <td>NaN</td>\n",
       "      <td>5 499 000 Ft</td>\n",
       "      <td>€ 14 947</td>\n",
       "      <td>Dízel</td>\n",
       "      <td>1 968 cm³</td>\n",
       "      <td>110 kW, 150 LE</td>\n",
       "      <td>Automata</td>\n",
       "      <td>...</td>\n",
       "      <td>Szürke</td>\n",
       "      <td>Első kerék</td>\n",
       "      <td>4</td>\n",
       "      <td>5 fő</td>\n",
       "      <td>115 662 km</td>\n",
       "      <td>586 liter</td>\n",
       "      <td>Digitális kétzónás klíma</td>\n",
       "      <td>2022/12</td>\n",
       "      <td>VOLKSWAGEN</td>\n",
       "      <td>PASSAT</td>\n",
       "    </tr>\n",
       "    <tr>\n",
       "      <th>2</th>\n",
       "      <td>2015/10</td>\n",
       "      <td>Megkímélt</td>\n",
       "      <td>Ferdehátú</td>\n",
       "      <td>NaN</td>\n",
       "      <td>5 490 000 Ft</td>\n",
       "      <td>€ 14 633</td>\n",
       "      <td>Benzin</td>\n",
       "      <td>1 969 cm³</td>\n",
       "      <td>112 kW, 152 LE</td>\n",
       "      <td>Manuális (6 fokozatú)</td>\n",
       "      <td>...</td>\n",
       "      <td>Fehér</td>\n",
       "      <td>Első kerék</td>\n",
       "      <td>5</td>\n",
       "      <td>5 fő</td>\n",
       "      <td>115 000 km</td>\n",
       "      <td>335 liter</td>\n",
       "      <td>Digitális kétzónás klíma</td>\n",
       "      <td>2023/10</td>\n",
       "      <td>VOLVO</td>\n",
       "      <td>V40</td>\n",
       "    </tr>\n",
       "    <tr>\n",
       "      <th>3</th>\n",
       "      <td>2021</td>\n",
       "      <td>Kitűnő</td>\n",
       "      <td>Kombi</td>\n",
       "      <td>NaN</td>\n",
       "      <td>22 990 000 Ft</td>\n",
       "      <td>€ 61 277</td>\n",
       "      <td>Elektromos</td>\n",
       "      <td>NaN</td>\n",
       "      <td>140 kW, 190 LE</td>\n",
       "      <td>Fokozatmentes automata</td>\n",
       "      <td>...</td>\n",
       "      <td>Kék (metál)</td>\n",
       "      <td>Első kerék</td>\n",
       "      <td>5</td>\n",
       "      <td>5 fő</td>\n",
       "      <td>13 250 km</td>\n",
       "      <td>340 liter</td>\n",
       "      <td>Digitális klíma</td>\n",
       "      <td>NaN</td>\n",
       "      <td>MERCEDES-BENZ</td>\n",
       "      <td>EQA</td>\n",
       "    </tr>\n",
       "    <tr>\n",
       "      <th>4</th>\n",
       "      <td>2018/3</td>\n",
       "      <td>Normál</td>\n",
       "      <td>Városi terepjáró (crossover)</td>\n",
       "      <td>NaN</td>\n",
       "      <td>21 990 000 Ft</td>\n",
       "      <td>€ 58 612</td>\n",
       "      <td>Benzin</td>\n",
       "      <td>4 663 cm³</td>\n",
       "      <td>335 kW, 455 LE</td>\n",
       "      <td>Automata (9 fokozatú tiptronic)</td>\n",
       "      <td>...</td>\n",
       "      <td>Fekete</td>\n",
       "      <td>Összkerék</td>\n",
       "      <td>5</td>\n",
       "      <td>7 fő</td>\n",
       "      <td>56 571 km</td>\n",
       "      <td>680 liter</td>\n",
       "      <td>Digitális kétzónás klíma</td>\n",
       "      <td>2021/11</td>\n",
       "      <td>MERCEDES-BENZ</td>\n",
       "      <td>GLS</td>\n",
       "    </tr>\n",
       "    <tr>\n",
       "      <th>...</th>\n",
       "      <td>...</td>\n",
       "      <td>...</td>\n",
       "      <td>...</td>\n",
       "      <td>...</td>\n",
       "      <td>...</td>\n",
       "      <td>...</td>\n",
       "      <td>...</td>\n",
       "      <td>...</td>\n",
       "      <td>...</td>\n",
       "      <td>...</td>\n",
       "      <td>...</td>\n",
       "      <td>...</td>\n",
       "      <td>...</td>\n",
       "      <td>...</td>\n",
       "      <td>...</td>\n",
       "      <td>...</td>\n",
       "      <td>...</td>\n",
       "      <td>...</td>\n",
       "      <td>...</td>\n",
       "      <td>...</td>\n",
       "      <td>...</td>\n",
       "    </tr>\n",
       "    <tr>\n",
       "      <th>70208</th>\n",
       "      <td>2007</td>\n",
       "      <td>Kitűnő</td>\n",
       "      <td>Sedan</td>\n",
       "      <td>NaN</td>\n",
       "      <td>NaN</td>\n",
       "      <td>NaN</td>\n",
       "      <td>NaN</td>\n",
       "      <td>NaN</td>\n",
       "      <td>NaN</td>\n",
       "      <td>NaN</td>\n",
       "      <td>...</td>\n",
       "      <td>NaN</td>\n",
       "      <td>NaN</td>\n",
       "      <td>NaN</td>\n",
       "      <td>NaN</td>\n",
       "      <td>134 000 km</td>\n",
       "      <td>NaN</td>\n",
       "      <td>NaN</td>\n",
       "      <td>NaN</td>\n",
       "      <td>LINCOLN</td>\n",
       "      <td>TOWN</td>\n",
       "    </tr>\n",
       "    <tr>\n",
       "      <th>70209</th>\n",
       "      <td>1979/10 (30 évnél öregebb)</td>\n",
       "      <td>Megkímélt</td>\n",
       "      <td>Terepjáró</td>\n",
       "      <td>NaN</td>\n",
       "      <td>NaN</td>\n",
       "      <td>NaN</td>\n",
       "      <td>Benzin</td>\n",
       "      <td>2 445 cm³</td>\n",
       "      <td>59 kW, 80 LE</td>\n",
       "      <td>Manuális (4 fokozatú)</td>\n",
       "      <td>...</td>\n",
       "      <td>Fekete</td>\n",
       "      <td>Összkerék</td>\n",
       "      <td>5.0</td>\n",
       "      <td>7 fő</td>\n",
       "      <td>54 000 km</td>\n",
       "      <td>NaN</td>\n",
       "      <td>NaN</td>\n",
       "      <td>NaN</td>\n",
       "      <td>UAZ</td>\n",
       "      <td>469</td>\n",
       "    </tr>\n",
       "    <tr>\n",
       "      <th>70210</th>\n",
       "      <td>2017/4</td>\n",
       "      <td>Újszerű</td>\n",
       "      <td>Városi terepjáró (crossover)</td>\n",
       "      <td>NaN</td>\n",
       "      <td>NaN</td>\n",
       "      <td>NaN</td>\n",
       "      <td>Dízel</td>\n",
       "      <td>2 993 cm³</td>\n",
       "      <td>230 kW, 313 LE</td>\n",
       "      <td>Automata (8 fokozatú tiptronic)</td>\n",
       "      <td>...</td>\n",
       "      <td>Fekete (metál)</td>\n",
       "      <td>Összkerék</td>\n",
       "      <td>5.0</td>\n",
       "      <td>5 fő</td>\n",
       "      <td>5 451 km</td>\n",
       "      <td>550 liter</td>\n",
       "      <td>Digitális kétzónás klíma</td>\n",
       "      <td>NaN</td>\n",
       "      <td>BMW</td>\n",
       "      <td>X6</td>\n",
       "    </tr>\n",
       "    <tr>\n",
       "      <th>70211</th>\n",
       "      <td>2018/11</td>\n",
       "      <td>Újszerű</td>\n",
       "      <td>Városi terepjáró (crossover)</td>\n",
       "      <td>NaN</td>\n",
       "      <td>NaN</td>\n",
       "      <td>NaN</td>\n",
       "      <td>Dízel</td>\n",
       "      <td>2 993 cm³</td>\n",
       "      <td>294 kW, 400 LE</td>\n",
       "      <td>Automata (8 fokozatú tiptronic)</td>\n",
       "      <td>...</td>\n",
       "      <td>Fekete (metál)</td>\n",
       "      <td>Összkerék</td>\n",
       "      <td>5.0</td>\n",
       "      <td>5 fő</td>\n",
       "      <td>66 000 km</td>\n",
       "      <td>650 liter</td>\n",
       "      <td>Digitális többzónás klíma</td>\n",
       "      <td>NaN</td>\n",
       "      <td>BMW</td>\n",
       "      <td>X5</td>\n",
       "    </tr>\n",
       "    <tr>\n",
       "      <th>70212</th>\n",
       "      <td>2010/7</td>\n",
       "      <td>Kitűnő</td>\n",
       "      <td>Egyterű</td>\n",
       "      <td>NaN</td>\n",
       "      <td>NaN</td>\n",
       "      <td>NaN</td>\n",
       "      <td>Dízel</td>\n",
       "      <td>2 000 cm³</td>\n",
       "      <td>110 kW, 150 LE</td>\n",
       "      <td>Automata (6 fokozatú)</td>\n",
       "      <td>...</td>\n",
       "      <td>Fehér</td>\n",
       "      <td>Első kerék</td>\n",
       "      <td>NaN</td>\n",
       "      <td>7 fő</td>\n",
       "      <td>265 km</td>\n",
       "      <td>NaN</td>\n",
       "      <td>Digitális kétzónás klíma</td>\n",
       "      <td>2021/12</td>\n",
       "      <td>RENAULT</td>\n",
       "      <td>GRAND</td>\n",
       "    </tr>\n",
       "  </tbody>\n",
       "</table>\n",
       "<p>70209 rows × 22 columns</p>\n",
       "</div>"
      ],
      "text/plain": [
       "                         Évjárat:   Állapot:                      Kivitel:  \\\n",
       "0                         2021/10    Újszerű                     Terepjáró   \n",
       "1                          2015/6  Megkímélt                         Sedan   \n",
       "2                         2015/10  Megkímélt                     Ferdehátú   \n",
       "3                            2021     Kitűnő                         Kombi   \n",
       "4                          2018/3     Normál  Városi terepjáró (crossover)   \n",
       "...                           ...        ...                           ...   \n",
       "70208                        2007     Kitűnő                         Sedan   \n",
       "70209  1979/10 (30 évnél öregebb)  Megkímélt                     Terepjáró   \n",
       "70210                      2017/4    Újszerű  Városi terepjáró (crossover)   \n",
       "70211                     2018/11    Újszerű  Városi terepjáró (crossover)   \n",
       "70212                      2010/7     Kitűnő                       Egyterű   \n",
       "\n",
       "      Akciós ár:       Vételár: Vételár EUR:  Üzemanyag: Hengerűrtartalom:  \\\n",
       "0            NaN            NaN     € 20 143      Benzin         1 497 cm³   \n",
       "1            NaN   5 499 000 Ft     € 14 947       Dízel         1 968 cm³   \n",
       "2            NaN   5 490 000 Ft     € 14 633      Benzin         1 969 cm³   \n",
       "3            NaN  22 990 000 Ft     € 61 277  Elektromos               NaN   \n",
       "4            NaN  21 990 000 Ft     € 58 612      Benzin         4 663 cm³   \n",
       "...          ...            ...          ...         ...               ...   \n",
       "70208        NaN            NaN          NaN         NaN               NaN   \n",
       "70209        NaN            NaN          NaN      Benzin         2 445 cm³   \n",
       "70210        NaN            NaN          NaN       Dízel         2 993 cm³   \n",
       "70211        NaN            NaN          NaN       Dízel         2 993 cm³   \n",
       "70212        NaN            NaN          NaN       Dízel         2 000 cm³   \n",
       "\n",
       "        Teljesítmény:           Sebességváltó fajtája:  ...           Szín:  \\\n",
       "0      120 kW, 163 LE            Manuális (6 fokozatú)  ...             NaN   \n",
       "1      110 kW, 150 LE                         Automata  ...          Szürke   \n",
       "2      112 kW, 152 LE            Manuális (6 fokozatú)  ...           Fehér   \n",
       "3      140 kW, 190 LE           Fokozatmentes automata  ...     Kék (metál)   \n",
       "4      335 kW, 455 LE  Automata (9 fokozatú tiptronic)  ...          Fekete   \n",
       "...               ...                              ...  ...             ...   \n",
       "70208             NaN                              NaN  ...             NaN   \n",
       "70209    59 kW, 80 LE            Manuális (4 fokozatú)  ...          Fekete   \n",
       "70210  230 kW, 313 LE  Automata (8 fokozatú tiptronic)  ...  Fekete (metál)   \n",
       "70211  294 kW, 400 LE  Automata (8 fokozatú tiptronic)  ...  Fekete (metál)   \n",
       "70212  110 kW, 150 LE            Automata (6 fokozatú)  ...           Fehér   \n",
       "\n",
       "          Hajtás: Ajtók száma: Szállítható szem. száma: Kilométeróra állása:  \\\n",
       "0      Első kerék            5                     5 fő                13 km   \n",
       "1      Első kerék            4                     5 fő           115 662 km   \n",
       "2      Első kerék            5                     5 fő           115 000 km   \n",
       "3      Első kerék            5                     5 fő            13 250 km   \n",
       "4       Összkerék            5                     7 fő            56 571 km   \n",
       "...           ...          ...                      ...                  ...   \n",
       "70208         NaN          NaN                      NaN           134 000 km   \n",
       "70209   Összkerék          5.0                     7 fő            54 000 km   \n",
       "70210   Összkerék          5.0                     5 fő             5 451 km   \n",
       "70211   Összkerék          5.0                     5 fő            66 000 km   \n",
       "70212  Első kerék          NaN                     7 fő               265 km   \n",
       "\n",
       "      Csomagtartó:             Klíma fajtája: Műszaki vizsga érvényes:  \\\n",
       "0        551 liter             Manuális klíma                  2025/10   \n",
       "1        586 liter   Digitális kétzónás klíma                  2022/12   \n",
       "2        335 liter   Digitális kétzónás klíma                  2023/10   \n",
       "3        340 liter            Digitális klíma                      NaN   \n",
       "4        680 liter   Digitális kétzónás klíma                  2021/11   \n",
       "...            ...                        ...                      ...   \n",
       "70208          NaN                        NaN                      NaN   \n",
       "70209          NaN                        NaN                      NaN   \n",
       "70210    550 liter   Digitális kétzónás klíma                      NaN   \n",
       "70211    650 liter  Digitális többzónás klíma                      NaN   \n",
       "70212          NaN   Digitális kétzónás klíma                  2021/12   \n",
       "\n",
       "               márka    típus  \n",
       "0          SSANGYONG  KORANDO  \n",
       "1         VOLKSWAGEN   PASSAT  \n",
       "2              VOLVO      V40  \n",
       "3      MERCEDES-BENZ      EQA  \n",
       "4      MERCEDES-BENZ      GLS  \n",
       "...              ...      ...  \n",
       "70208        LINCOLN     TOWN  \n",
       "70209            UAZ      469  \n",
       "70210            BMW       X6  \n",
       "70211            BMW       X5  \n",
       "70212        RENAULT    GRAND  \n",
       "\n",
       "[70209 rows x 22 columns]"
      ]
     },
     "execution_count": 5,
     "metadata": {},
     "output_type": "execute_result"
    }
   ],
   "source": [
    "data\n"
   ]
  },
  {
   "cell_type": "code",
   "execution_count": 6,
   "id": "38e65c1c",
   "metadata": {},
   "outputs": [
    {
     "data": {
      "text/html": [
       "<div>\n",
       "<style scoped>\n",
       "    .dataframe tbody tr th:only-of-type {\n",
       "        vertical-align: middle;\n",
       "    }\n",
       "\n",
       "    .dataframe tbody tr th {\n",
       "        vertical-align: top;\n",
       "    }\n",
       "\n",
       "    .dataframe thead th {\n",
       "        text-align: right;\n",
       "    }\n",
       "</style>\n",
       "<table border=\"1\" class=\"dataframe\">\n",
       "  <thead>\n",
       "    <tr style=\"text-align: right;\">\n",
       "      <th></th>\n",
       "      <th>Évjárat:</th>\n",
       "      <th>Állapot:</th>\n",
       "      <th>Kivitel:</th>\n",
       "      <th>Akciós ár:</th>\n",
       "      <th>Vételár:</th>\n",
       "      <th>Vételár EUR:</th>\n",
       "      <th>Üzemanyag:</th>\n",
       "      <th>Hengerűrtartalom:</th>\n",
       "      <th>Teljesítmény:</th>\n",
       "      <th>Sebességváltó fajtája:</th>\n",
       "      <th>...</th>\n",
       "      <th>Szín:</th>\n",
       "      <th>Hajtás:</th>\n",
       "      <th>Ajtók száma:</th>\n",
       "      <th>Szállítható szem. száma:</th>\n",
       "      <th>Kilométeróra állása:</th>\n",
       "      <th>Csomagtartó:</th>\n",
       "      <th>Klíma fajtája:</th>\n",
       "      <th>Műszaki vizsga érvényes:</th>\n",
       "      <th>márka</th>\n",
       "      <th>típus</th>\n",
       "    </tr>\n",
       "  </thead>\n",
       "  <tbody>\n",
       "    <tr>\n",
       "      <th>count</th>\n",
       "      <td>70209</td>\n",
       "      <td>70209</td>\n",
       "      <td>70209</td>\n",
       "      <td>0</td>\n",
       "      <td>66037</td>\n",
       "      <td>69718</td>\n",
       "      <td>69589</td>\n",
       "      <td>67774</td>\n",
       "      <td>69296</td>\n",
       "      <td>65186</td>\n",
       "      <td>...</td>\n",
       "      <td>54923</td>\n",
       "      <td>64518</td>\n",
       "      <td>68223</td>\n",
       "      <td>68638</td>\n",
       "      <td>70209</td>\n",
       "      <td>58481</td>\n",
       "      <td>62835</td>\n",
       "      <td>52650</td>\n",
       "      <td>70209</td>\n",
       "      <td>70209</td>\n",
       "    </tr>\n",
       "    <tr>\n",
       "      <th>unique</th>\n",
       "      <td>900</td>\n",
       "      <td>5</td>\n",
       "      <td>16</td>\n",
       "      <td>0</td>\n",
       "      <td>5976</td>\n",
       "      <td>8520</td>\n",
       "      <td>12</td>\n",
       "      <td>942</td>\n",
       "      <td>426</td>\n",
       "      <td>48</td>\n",
       "      <td>...</td>\n",
       "      <td>74</td>\n",
       "      <td>5</td>\n",
       "      <td>9</td>\n",
       "      <td>13</td>\n",
       "      <td>26387</td>\n",
       "      <td>637</td>\n",
       "      <td>6</td>\n",
       "      <td>134</td>\n",
       "      <td>134</td>\n",
       "      <td>1389</td>\n",
       "    </tr>\n",
       "    <tr>\n",
       "      <th>top</th>\n",
       "      <td>2022</td>\n",
       "      <td>Normál</td>\n",
       "      <td>Ferdehátú</td>\n",
       "      <td>NaN</td>\n",
       "      <td>999 000 Ft</td>\n",
       "      <td>€ 2 663</td>\n",
       "      <td>Benzin</td>\n",
       "      <td>1 598 cm³</td>\n",
       "      <td>110 kW, 150 LE</td>\n",
       "      <td>Manuális (5 fokozatú)</td>\n",
       "      <td>...</td>\n",
       "      <td>Fehér</td>\n",
       "      <td>Első kerék</td>\n",
       "      <td>5</td>\n",
       "      <td>5 fő</td>\n",
       "      <td>Nincs megadva</td>\n",
       "      <td>500 liter</td>\n",
       "      <td>Digitális kétzónás klíma</td>\n",
       "      <td>2024/3</td>\n",
       "      <td>BMW</td>\n",
       "      <td>ASTRA</td>\n",
       "    </tr>\n",
       "    <tr>\n",
       "      <th>freq</th>\n",
       "      <td>2513</td>\n",
       "      <td>26783</td>\n",
       "      <td>20579</td>\n",
       "      <td>NaN</td>\n",
       "      <td>448</td>\n",
       "      <td>416</td>\n",
       "      <td>37206</td>\n",
       "      <td>4800</td>\n",
       "      <td>4184</td>\n",
       "      <td>25115</td>\n",
       "      <td>...</td>\n",
       "      <td>6787</td>\n",
       "      <td>45139</td>\n",
       "      <td>45592</td>\n",
       "      <td>57018</td>\n",
       "      <td>1558</td>\n",
       "      <td>1894</td>\n",
       "      <td>20802</td>\n",
       "      <td>4001</td>\n",
       "      <td>6245</td>\n",
       "      <td>1970</td>\n",
       "    </tr>\n",
       "  </tbody>\n",
       "</table>\n",
       "<p>4 rows × 22 columns</p>\n",
       "</div>"
      ],
      "text/plain": [
       "       Évjárat: Állapot:   Kivitel: Akciós ár:    Vételár: Vételár EUR:  \\\n",
       "count     70209    70209      70209          0       66037        69718   \n",
       "unique      900        5         16          0        5976         8520   \n",
       "top        2022   Normál  Ferdehátú        NaN  999 000 Ft      € 2 663   \n",
       "freq       2513    26783      20579        NaN         448          416   \n",
       "\n",
       "       Üzemanyag: Hengerűrtartalom:   Teljesítmény: Sebességváltó fajtája:  \\\n",
       "count       69589             67774           69296                  65186   \n",
       "unique         12               942             426                     48   \n",
       "top        Benzin         1 598 cm³  110 kW, 150 LE  Manuális (5 fokozatú)   \n",
       "freq        37206              4800            4184                  25115   \n",
       "\n",
       "        ...  Szín:     Hajtás: Ajtók száma: Szállítható szem. száma:  \\\n",
       "count   ...  54923       64518        68223                    68638   \n",
       "unique  ...     74           5            9                       13   \n",
       "top     ...  Fehér  Első kerék            5                     5 fő   \n",
       "freq    ...   6787       45139        45592                    57018   \n",
       "\n",
       "       Kilométeróra állása: Csomagtartó:            Klíma fajtája:  \\\n",
       "count                 70209        58481                     62835   \n",
       "unique                26387          637                         6   \n",
       "top           Nincs megadva    500 liter  Digitális kétzónás klíma   \n",
       "freq                   1558         1894                     20802   \n",
       "\n",
       "       Műszaki vizsga érvényes:  márka  típus  \n",
       "count                     52650  70209  70209  \n",
       "unique                      134    134   1389  \n",
       "top                      2024/3    BMW  ASTRA  \n",
       "freq                       4001   6245   1970  \n",
       "\n",
       "[4 rows x 22 columns]"
      ]
     },
     "execution_count": 6,
     "metadata": {},
     "output_type": "execute_result"
    }
   ],
   "source": [
    "data.describe(include=\"all\")"
   ]
  },
  {
   "cell_type": "markdown",
   "id": "7fec587c",
   "metadata": {},
   "source": [
    "# Preprocessing data"
   ]
  },
  {
   "cell_type": "markdown",
   "id": "9e02f71b",
   "metadata": {},
   "source": [
    "### clearing out letters,spaces from values, making numeric values from string to numeric"
   ]
  },
  {
   "cell_type": "code",
   "execution_count": 7,
   "id": "34b62858",
   "metadata": {},
   "outputs": [],
   "source": [
    "data[\"Vételár:\"].replace([\"\\xa0\", \"Ft\"], \"\", regex=True, inplace=True)\n",
    "data[\"Vételár EUR:\"].replace( [\"\\xa0\", \"€\"],  \"\", regex=True, inplace=True)\n",
    "data[\"Kilométeróra állása:\"].replace( [\"\\xa0\", \"km\"],  \"\", regex=True, inplace=True)\n",
    "data[\"Hengerűrtartalom:\"].replace( [\"\\xa0\", \"cm³\"],  \"\", regex=True, inplace=True)\n",
    "data[\"Szállítható szem. száma:\"].replace( [\"\\xa0\", \"fő\"],  \"\", regex=True, inplace=True)\n",
    "data[\"Teljesítmény:\"].replace([\"kW\", \"LE\"], \"\", regex=True, inplace=True)\n",
    "data[\"Csomagtartó:\"].replace( [\"\\xa0\", \"liter\"],\"\", regex=True, inplace=True )\n",
    "data[\"Teljes tömeg:\"].replace( [\"\\xa0\", \"kg\"],\"\", regex=True, inplace=True )\n",
    "data[\"Vételár:\"]= pd.to_numeric(data[\"Vételár:\"], errors=\"coerce\")\n",
    "data[\"Vételár EUR:\"]= pd.to_numeric(data[\"Vételár EUR:\"], errors=\"coerce\")\n",
    "data[\"Kilométeróra állása:\"]= pd.to_numeric(data[\"Kilométeróra állása:\"], errors=\"coerce\")\n",
    "data[\"Hengerűrtartalom:\"]= pd.to_numeric(data[\"Hengerűrtartalom:\"], errors=\"coerce\")\n",
    "data[\"Szállítható szem. száma:\"]= pd.to_numeric(data[\"Szállítható szem. száma:\"], errors=\"coerce\")\n",
    "data[\"Csomagtartó:\"]= pd.to_numeric(data[\"Csomagtartó:\"], errors=\"coerce\")\n",
    "data[\"Teljes tömeg:\"]= pd.to_numeric(data[\"Teljes tömeg:\"], errors=\"coerce\")\n",
    "data[\"Ajtók száma:\"]= pd.to_numeric(data[\"Ajtók száma:\"], errors=\"coerce\")"
   ]
  },
  {
   "cell_type": "markdown",
   "id": "304636ee",
   "metadata": {},
   "source": [
    "### holding only year from datetime, holding only HP from Performance, making gearbox values into 3 category"
   ]
  },
  {
   "cell_type": "code",
   "execution_count": 8,
   "id": "d1c097e0",
   "metadata": {},
   "outputs": [],
   "source": [
    "data[\"Évjárat:\"] = data[\"Évjárat:\"].str.split(\"/\").str[0]\n",
    "data[\"Évjárat:\"]= pd.to_numeric(data[\"Évjárat:\"], errors=\"coerce\")\n",
    "data[\"Műszaki vizsga érvényes:\"] = data[\"Műszaki vizsga érvényes:\"].str.split(\"/\").str[0]\n",
    "data[\"Műszaki vizsga érvényes:\"]= pd.to_numeric(data[\"Műszaki vizsga érvényes:\"], errors=\"coerce\")\n",
    "data[\"Teljesítmény:\"] = data[\"Teljesítmény:\"].str.split(\",\").str[1]\n",
    "data[\"Teljesítmény:\"]= pd.to_numeric(data[\"Teljesítmény:\"], errors=\"coerce\")\n",
    "#data[\"Sebességváltó fajtája:\"] = data[\"Sebességváltó fajtája:\"].apply(lambda x: \"automata\" if \"automata\" in str(x).lower() else(\"manuális\" if \"manuális\" in str(x).lower() else \"egyéb\"))"
   ]
  },
  {
   "cell_type": "markdown",
   "id": "639683c0",
   "metadata": {},
   "source": [
    "### Multicollinearity"
   ]
  },
  {
   "cell_type": "code",
   "execution_count": null,
   "id": "b05d2ae6",
   "metadata": {},
   "outputs": [],
   "source": [
    "from statsmodels.stats.outliers_influence import variance_inflation_factor\n",
    "from statsmodels.tools.tools import add_constant\n",
    "\n",
    "v = data[[\"Évjárat:\",\"Hengerűrtartalom:\", \"Teljesítmény:\", \"Teljes tömeg:\",\"Szállítható szem. száma:\",\"Kilométeróra állása:\",\"Csomagtartó:\"]]\n",
    "v = add_constant(v)\n",
    "vif = pd.DataFrame()\n",
    "vif[\"VIF\"] = [variance_inflation_factor(v.values, i) for i in range(v.shape[1])]\n",
    "vif[\"features\"] = v.columns\n",
    "vif"
   ]
  },
  {
   "cell_type": "code",
   "execution_count": null,
   "id": "9ede95ee",
   "metadata": {},
   "outputs": [],
   "source": [
    "data.corr()"
   ]
  },
  {
   "cell_type": "markdown",
   "id": "0eef1049",
   "metadata": {},
   "source": [
    "### inspecting and dealing with missing values"
   ]
  },
  {
   "cell_type": "code",
   "execution_count": null,
   "id": "74608737",
   "metadata": {
    "scrolled": true
   },
   "outputs": [],
   "source": [
    "data.isna().sum()"
   ]
  },
  {
   "cell_type": "code",
   "execution_count": 9,
   "id": "4298c425",
   "metadata": {},
   "outputs": [],
   "source": [
    "# The sale price column may have been scraped wrongly, all value missing, so dropping the column\n",
    "data.drop([\"Akciós ár:\", \"Vételár:\"], axis=1,inplace=True)\n",
    "# the műszaki and color has more than 20% missing value, and for the variables, its not predictable, or logic to handle these so dropping these 2 columns\n",
    "#data.drop(\"Szín:\", axis=1,inplace=True)\n",
    "#data.drop([\"típus\"], axis=1, inplace=True)"
   ]
  },
  {
   "cell_type": "markdown",
   "id": "c9250f10",
   "metadata": {},
   "source": [
    "### reducing variety of categorical variables\n"
   ]
  },
  {
   "cell_type": "code",
   "execution_count": 12,
   "id": "aa01f305",
   "metadata": {},
   "outputs": [
    {
     "data": {
      "text/plain": [
       "Évjárat:                       81\n",
       "Állapot:                        5\n",
       "Kivitel:                       16\n",
       "Vételár EUR:                 8520\n",
       "Üzemanyag:                     12\n",
       "Hengerűrtartalom:             942\n",
       "Teljesítmény:                 421\n",
       "Sebességváltó fajtája:          3\n",
       "Okmányok jellege:               7\n",
       "Teljes tömeg:                1100\n",
       "Szín:                          74\n",
       "Hajtás:                         5\n",
       "Ajtók száma:                    5\n",
       "Szállítható szem. száma:       13\n",
       "Kilométeróra állása:        26386\n",
       "Csomagtartó:                  637\n",
       "Klíma fajtája:                  6\n",
       "Műszaki vizsga érvényes:       14\n",
       "márka                         134\n",
       "típus                        1389\n",
       "dtype: int64"
      ]
     },
     "execution_count": 12,
     "metadata": {},
     "output_type": "execute_result"
    }
   ],
   "source": [
    "data.nunique()"
   ]
  },
  {
   "cell_type": "code",
   "execution_count": 13,
   "id": "561bc4f5",
   "metadata": {},
   "outputs": [],
   "source": [
    "data[\"Kivitel:\"].mask(data[\"Kivitel:\"].map(data[\"Kivitel:\"].value_counts(normalize=True)) < 0.01, \"other\", inplace=True)\n",
    "data[\"márka\"].mask(data[\"márka\"].map(data[\"márka\"].value_counts(normalize=True)) < 0.001, \"other\", inplace=True)"
   ]
  },
  {
   "cell_type": "code",
   "execution_count": null,
   "id": "2f17d7e4",
   "metadata": {},
   "outputs": [],
   "source": [
    "sns.scatterplot(data[\"Vételár EUR:\"], data[\"Kilométeróra állása:\"])"
   ]
  },
  {
   "cell_type": "code",
   "execution_count": null,
   "id": "99109fd5",
   "metadata": {},
   "outputs": [],
   "source": [
    "if data[\"Állapot:\"].dtype == \"O\":\n",
    "    print(\"yes\")"
   ]
  },
  {
   "cell_type": "code",
   "execution_count": null,
   "id": "c2f0462e",
   "metadata": {},
   "outputs": [],
   "source": [
    "list(data[\"Állapot:\"].value_counts().index)"
   ]
  },
  {
   "cell_type": "code",
   "execution_count": null,
   "id": "9478d1d2",
   "metadata": {},
   "outputs": [],
   "source": [
    "data5 = data[[\"Állapot:\", \"Kivitel:\"]]\n",
    "data5 = pd.get_dummies(data5)\n",
    "data5"
   ]
  },
  {
   "cell_type": "code",
   "execution_count": null,
   "id": "fe91dbe6",
   "metadata": {},
   "outputs": [],
   "source": [
    "d = pd.DataFrame(columns=[\"b\",\"w\"])\n",
    "d[\"b\"] = 5\n",
    "d"
   ]
  },
  {
   "cell_type": "markdown",
   "id": "7c69f217",
   "metadata": {},
   "source": [
    "### standardizing the data"
   ]
  },
  {
   "cell_type": "code",
   "execution_count": null,
   "id": "c7d64d60",
   "metadata": {
    "scrolled": true
   },
   "outputs": [],
   "source": [
    "numerics = ['int16', 'int32', 'int64', 'float16', 'float32', 'float64']\n",
    "\n",
    "newdf = data.select_dtypes(include=numerics)\n",
    "newdf.drop([\"Vételár EUR:\"], axis=1, inplace=True)\n",
    "scaler = pre.StandardScaler()\n",
    "scaler.fit(newdf)\n",
    "transformed = scaler.transform(newdf)\n",
    "g = pd.DataFrame(transformed)\n",
    "g\n",
    "data[[\"Évjárat:\",\"Hengerűrtartalom:\", \"Teljesítmény:\", \"Teljes tömeg:\",\"Szállítható szem. száma:\",\"Kilométeróra állása:\",\"Csomagtartó:\"]] = g\n",
    "\n",
    "\n",
    "\n"
   ]
  },
  {
   "cell_type": "markdown",
   "id": "f37c1e18",
   "metadata": {},
   "source": [
    "### plotting data ( boxplots, distributions)"
   ]
  },
  {
   "cell_type": "code",
   "execution_count": 69,
   "id": "49cdced4",
   "metadata": {
    "scrolled": true
   },
   "outputs": [
    {
     "data": {
      "text/plain": [
       "<AxesSubplot:xlabel='Teljesítmény:'>"
      ]
     },
     "execution_count": 69,
     "metadata": {},
     "output_type": "execute_result"
    },
    {
     "data": {
      "image/png": "[encoded data removed]",
      "text/plain": [
       "<Figure size 720x2160 with 7 Axes>"
      ]
     },
     "metadata": {
      "needs_background": "light"
     },
     "output_type": "display_data"
    }
   ],
   "source": [
    "fig, axes = plt.subplots(7,1,figsize=(10,30))\n",
    "fig.suptitle(\"boxplots\")\n",
    "sns.boxplot(ax=axes[0], x=data[\"Vételár EUR:\"])\n",
    "sns.boxplot(ax=axes[1], x=data[\"Teljes tömeg:\"])\n",
    "sns.boxplot(ax=axes[2], x=data[\"Szállítható szem. száma:\"])\n",
    "sns.boxplot(ax=axes[3], x=data[\"Kilométeróra állása:\"])\n",
    "sns.boxplot(ax=axes[4], x=data[\"Csomagtartó:\"])\n",
    "sns.boxplot(ax=axes[5], x=data[\"Hengerűrtartalom:\"])\n",
    "sns.boxplot(ax=axes[6], x=data[\"Évjárat:\"])\n",
    "sns.boxplot(ax=axes[6], x=data[\"Teljesítmény:\"])\n"
   ]
  },
  {
   "cell_type": "code",
   "execution_count": 10,
   "id": "0776e397",
   "metadata": {},
   "outputs": [
    {
     "data": {
      "text/plain": [
       "<seaborn.axisgrid.FacetGrid at 0x26310ca80d0>"
      ]
     },
     "execution_count": 10,
     "metadata": {},
     "output_type": "execute_result"
    },
    {
     "data": {
      "image/png": "[encoded data removed]",
      "text/plain": [
       "<Figure size 360x360 with 1 Axes>"
      ]
     },
     "metadata": {
      "needs_background": "light"
     },
     "output_type": "display_data"
    },
    {
     "data": {
      "image/png": "[encoded data removed]",
      "text/plain": [
       "<Figure size 360x360 with 1 Axes>"
      ]
     },
     "metadata": {
      "needs_background": "light"
     },
     "output_type": "display_data"
    },
    {
     "data": {
      "image/png": "[encoded data removed]",
      "text/plain": [
       "<Figure size 360x360 with 1 Axes>"
      ]
     },
     "metadata": {
      "needs_background": "light"
     },
     "output_type": "display_data"
    },
    {
     "data": {
      "image/png": "[encoded data removed]",
      "text/plain": [
       "<Figure size 360x360 with 1 Axes>"
      ]
     },
     "metadata": {
      "needs_background": "light"
     },
     "output_type": "display_data"
    },
    {
     "data": {
      "image/png": "[encoded data removed]",
      "text/plain": [
       "<Figure size 360x360 with 1 Axes>"
      ]
     },
     "metadata": {
      "needs_background": "light"
     },
     "output_type": "display_data"
    },
    {
     "data": {
      "image/png": "[encoded data removed]",
      "text/plain": [
       "<Figure size 360x360 with 1 Axes>"
      ]
     },
     "metadata": {
      "needs_background": "light"
     },
     "output_type": "display_data"
    },
    {
     "data": {
      "image/png": "[encoded data removed]",
      "text/plain": [
       "<Figure size 360x360 with 1 Axes>"
      ]
     },
     "metadata": {
      "needs_background": "light"
     },
     "output_type": "display_data"
    },
    {
     "data": {
      "image/png": "[encoded data removed]",
      "text/plain": [
       "<Figure size 360x360 with 1 Axes>"
      ]
     },
     "metadata": {
      "needs_background": "light"
     },
     "output_type": "display_data"
    }
   ],
   "source": [
    "# fig, axes = plt.subplots(7,1,figsize=(10,40))\n",
    "# fig.suptitle(\"boxplots\")\n",
    "sns.displot( x=data[\"Vételár EUR:\"], kde=True)\n",
    "sns.displot( x=data[\"Teljes tömeg:\"], kde=True)\n",
    "sns.displot( x=data[\"Szállítható szem. száma:\"], kde=True)\n",
    "sns.displot( x=data[\"Kilométeróra állása:\"], kde=True)\n",
    "sns.displot( x=data[\"Csomagtartó:\"], kde=True)\n",
    "sns.displot( x=data[\"Hengerűrtartalom:\"], kde=True)\n",
    "sns.displot( x=data[\"Évjárat:\"], kde=True)\n",
    "sns.displot( x=data[\"Teljesítmény:\"], kde=True)\n",
    "\n"
   ]
  },
  {
   "cell_type": "markdown",
   "id": "f268c148",
   "metadata": {},
   "source": [
    "### trancforming price with log"
   ]
  },
  {
   "cell_type": "code",
   "execution_count": 11,
   "id": "7479b644",
   "metadata": {},
   "outputs": [],
   "source": [
    "log_price = np.log(data['Vételár EUR:'])\n",
    "data['Vételár EUR:'] = log_price\n"
   ]
  },
  {
   "cell_type": "markdown",
   "id": "17b2135b",
   "metadata": {},
   "source": [
    "### dropping outliers"
   ]
  },
  {
   "cell_type": "code",
   "execution_count": 72,
   "id": "3fb2a2ae",
   "metadata": {},
   "outputs": [],
   "source": [
    "for i in [\"Vételár EUR:\",\"Kilométeróra állása:\",\"Teljes tömeg:\",\"Csomagtartó:\",\"Teljesítmény:\",\"Szállítható szem. száma:\"]:\n",
    "    q_low = data[i].quantile(0.01)\n",
    "    q_hi  = data[i].quantile(0.99)\n",
    "    data = data[(data[i] < q_hi) & (data[i] > q_low)]"
   ]
  },
  {
   "cell_type": "code",
   "execution_count": 15,
   "id": "1829ea94",
   "metadata": {},
   "outputs": [],
   "source": [
    "for i in range(100):\n",
    "    data.drop(list(data.loc[data[\"Kilométeróra állása:\"] == data[\"Kilométeróra állása:\"].max()].index), inplace=True)\n",
    "    #data.drop(list(data.loc[data[\"Csomagtartó:\"] == data[\"Csomagtartó:\"].max()].index), inplace=True)\n",
    "    #data.drop(list(data.loc[data[\"Szállítható szem. száma:\"] == data[\"Szállítható szem. száma:\"].max()].index), inplace=True)\n",
    "    data.drop(list(data.loc[data[\"Teljes tömeg:\"] == data[\"Teljes tömeg:\"].max()].index), inplace=True)\n",
    "    #data.drop(list(data.loc[data[\"Hengerűrtartalom:\"] == data[\"Hengerűrtartalom:\"].max()].index), inplace=True)\n",
    "    data.drop(list(data.loc[data[\"Vételár EUR:\"] == data[\"Vételár EUR:\"].max()].index), inplace=True)\n"
   ]
  },
  {
   "cell_type": "code",
   "execution_count": null,
   "id": "14fc56f8",
   "metadata": {},
   "outputs": [],
   "source": [
    "#data = data[(data[\"Vételár EUR:\"] <  np.percentile(data[\"Vételár EUR:\"],95)) & (data[\"Vételár EUR:\"] >  np.percentile(data[\"Vételár EUR:\"],5))]"
   ]
  },
  {
   "cell_type": "markdown",
   "id": "036f9bba",
   "metadata": {},
   "source": [
    "### filling missing values with mode"
   ]
  },
  {
   "cell_type": "code",
   "execution_count": null,
   "id": "e4f8b8c6",
   "metadata": {},
   "outputs": [],
   "source": [
    "for column in data:\n",
    "    data[column].fillna(data[column].mode()[0], inplace=True)"
   ]
  },
  {
   "cell_type": "code",
   "execution_count": 12,
   "id": "11df5abd",
   "metadata": {},
   "outputs": [],
   "source": [
    "data.dropna(inplace=True)"
   ]
  },
  {
   "cell_type": "code",
   "execution_count": null,
   "id": "2921f775",
   "metadata": {},
   "outputs": [],
   "source": [
    "#predicting missing values wiht regresssion\n",
    "i = "
   ]
  },
  {
   "cell_type": "code",
   "execution_count": null,
   "id": "3323586c",
   "metadata": {},
   "outputs": [],
   "source": [
    "sns.scatterplot(data[\"Vételár EUR:\"], data['Teljesítmény:'], s=2)\n"
   ]
  },
  {
   "cell_type": "code",
   "execution_count": null,
   "id": "7360dcbf",
   "metadata": {},
   "outputs": [],
   "source": [
    "data[\"telj^2\"] = data[\"Teljesítmény:\"]**2"
   ]
  },
  {
   "cell_type": "code",
   "execution_count": null,
   "id": "5d16145e",
   "metadata": {},
   "outputs": [],
   "source": [
    "sns.scatterplot(data[\"Vételár EUR:\"], data['Hengerűrtartalom:'], s=2)"
   ]
  },
  {
   "cell_type": "code",
   "execution_count": null,
   "id": "ba9ed224",
   "metadata": {},
   "outputs": [],
   "source": [
    "data.quantile(0.01, axis=0)"
   ]
  },
  {
   "cell_type": "code",
   "execution_count": null,
   "id": "98571fba",
   "metadata": {},
   "outputs": [],
   "source": [
    "data_new = data[[\"Vételár EUR:\", \"Üzemanyag:\", \"Teljesítmény:\", \"Évjárat:\", \"Kilométeróra állása:\"]]\n"
   ]
  },
  {
   "cell_type": "code",
   "execution_count": null,
   "id": "7627fcb7",
   "metadata": {},
   "outputs": [],
   "source": [
    "data_new"
   ]
  },
  {
   "cell_type": "code",
   "execution_count": null,
   "id": "957df4c8",
   "metadata": {},
   "outputs": [],
   "source": [
    "data"
   ]
  },
  {
   "cell_type": "markdown",
   "id": "8d8eeb76",
   "metadata": {},
   "source": [
    "### making dummies from categorical variables"
   ]
  },
  {
   "cell_type": "code",
   "execution_count": 13,
   "id": "e4b0d51c",
   "metadata": {},
   "outputs": [],
   "source": [
    "data = pd.get_dummies(data, drop_first=True)"
   ]
  },
  {
   "cell_type": "code",
   "execution_count": null,
   "id": "6185c6d2",
   "metadata": {},
   "outputs": [],
   "source": [
    "data_new =  pd.get_dummies(data_new, drop_first=True)"
   ]
  },
  {
   "cell_type": "code",
   "execution_count": null,
   "id": "c897efe6",
   "metadata": {},
   "outputs": [],
   "source": [
    "data_new"
   ]
  },
  {
   "cell_type": "code",
   "execution_count": null,
   "id": "90ff3c83",
   "metadata": {},
   "outputs": [],
   "source": [
    "data_new.corr()"
   ]
  },
  {
   "cell_type": "markdown",
   "id": "c4da235f",
   "metadata": {},
   "source": [
    "### splitting into inputs and targets and train and test"
   ]
  },
  {
   "cell_type": "code",
   "execution_count": 14,
   "id": "1d62681e",
   "metadata": {},
   "outputs": [],
   "source": [
    "targets = data['Vételár EUR:']\n",
    "#targets = data[3]\n",
    "inputs = data.drop(['Vételár EUR:'],axis=1)\n",
    "#inputs = data.drop([3],axis=1)"
   ]
  },
  {
   "cell_type": "code",
   "execution_count": null,
   "id": "25fa418b",
   "metadata": {},
   "outputs": [],
   "source": [
    "targets1 = data_new['Vételár EUR:']\n",
    "#targets = data[3]\n",
    "inputs1 = data_new.drop(['Vételár EUR:'],axis=1)\n",
    "#inputs = data.drop([3],axis=1)"
   ]
  },
  {
   "cell_type": "code",
   "execution_count": null,
   "id": "c0b5feb3",
   "metadata": {},
   "outputs": [],
   "source": [
    "from sklearn.feature_selection import f_regression"
   ]
  },
  {
   "cell_type": "code",
   "execution_count": null,
   "id": "ae5cecf2",
   "metadata": {},
   "outputs": [],
   "source": [
    "f_regression(inputs,targets)[1].round(3)"
   ]
  },
  {
   "cell_type": "code",
   "execution_count": null,
   "id": "d1cbc86e",
   "metadata": {},
   "outputs": [],
   "source": [
    "f_regression(inputs1,targets1)[1].round(3)"
   ]
  },
  {
   "cell_type": "code",
   "execution_count": 15,
   "id": "ba01997b",
   "metadata": {},
   "outputs": [],
   "source": [
    "from sklearn.model_selection import train_test_split\n",
    "\n",
    "x_train, x_test, y_train, y_test = train_test_split(inputs, targets, test_size=0.2, random_state=365)"
   ]
  },
  {
   "cell_type": "code",
   "execution_count": null,
   "id": "e386c75d",
   "metadata": {},
   "outputs": [],
   "source": [
    "from sklearn.model_selection import train_test_split\n",
    "\n",
    "x_train1, x_test1, y_train1, y_test1 = train_test_split(inputs1, targets1, test_size=0.2, random_state=365)"
   ]
  },
  {
   "cell_type": "markdown",
   "id": "9ec4df36",
   "metadata": {},
   "source": [
    "### linear regression with sklearn"
   ]
  },
  {
   "cell_type": "code",
   "execution_count": 16,
   "id": "9e903cb4",
   "metadata": {},
   "outputs": [
    {
     "data": {
      "text/plain": [
       "LinearRegression()"
      ]
     },
     "execution_count": 16,
     "metadata": {},
     "output_type": "execute_result"
    }
   ],
   "source": [
    "from sklearn.linear_model import LinearRegression\n",
    "reg = LinearRegression()\n",
    "reg.fit(x_train,y_train)"
   ]
  },
  {
   "cell_type": "code",
   "execution_count": null,
   "id": "d805be7f",
   "metadata": {},
   "outputs": [],
   "source": [
    "from sklearn.linear_model import LinearRegression\n",
    "reg = LinearRegression()\n",
    "reg.fit(x_train1,y_train1)"
   ]
  },
  {
   "cell_type": "code",
   "execution_count": 17,
   "id": "f55c82dd",
   "metadata": {},
   "outputs": [
    {
     "data": {
      "text/plain": [
       "0.955767815846668"
      ]
     },
     "execution_count": 17,
     "metadata": {},
     "output_type": "execute_result"
    }
   ],
   "source": [
    "reg.score(x_train,y_train)"
   ]
  },
  {
   "cell_type": "code",
   "execution_count": null,
   "id": "843c5f9e",
   "metadata": {},
   "outputs": [],
   "source": [
    "reg.score(x_train1,y_train1)"
   ]
  },
  {
   "cell_type": "code",
   "execution_count": null,
   "id": "406ed2ab",
   "metadata": {},
   "outputs": [],
   "source": [
    "reg.coef_"
   ]
  },
  {
   "cell_type": "code",
   "execution_count": null,
   "id": "ba691959",
   "metadata": {},
   "outputs": [],
   "source": [
    "x_test"
   ]
  },
  {
   "cell_type": "code",
   "execution_count": null,
   "id": "aa962862",
   "metadata": {},
   "outputs": [],
   "source": [
    "m = ['Üzemanyag:', \"ben\"]\n",
    "h = ['Benzin', \"asdfa\"]\n",
    "p = pd.DataFrame([h], columns=m)\n",
    "p"
   ]
  },
  {
   "cell_type": "code",
   "execution_count": 18,
   "id": "03bce4b8",
   "metadata": {},
   "outputs": [],
   "source": [
    "y_hat_test = reg.predict(x_test)"
   ]
  },
  {
   "cell_type": "code",
   "execution_count": null,
   "id": "4e9cfe18",
   "metadata": {},
   "outputs": [],
   "source": [
    "y_hat_test1 = reg.predict(x_test1)"
   ]
  },
  {
   "cell_type": "code",
   "execution_count": 23,
   "id": "5a3f8fc3",
   "metadata": {},
   "outputs": [
    {
     "data": {
      "image/png": "[encoded data removed]",
      "text/plain": [
       "<Figure size 432x288 with 1 Axes>"
      ]
     },
     "metadata": {
      "needs_background": "light"
     },
     "output_type": "display_data"
    }
   ],
   "source": [
    "plt.scatter(y_test, y_hat_test, alpha=0.2)\n",
    "plt.xlabel('Targets (y_test)',size=18)\n",
    "plt.ylabel('Predictions (y_hat_test)',size=18)\n",
    "plt.xlim(6,13)\n",
    "plt.ylim(6,13)\n",
    "plt.show()"
   ]
  },
  {
   "cell_type": "code",
   "execution_count": 24,
   "id": "f3b05edc",
   "metadata": {},
   "outputs": [
    {
     "ename": "NameError",
     "evalue": "name 'y_hat_test1' is not defined",
     "output_type": "error",
     "traceback": [
      "\u001b[1;31m---------------------------------------------------------------------------\u001b[0m",
      "\u001b[1;31mNameError\u001b[0m                                 Traceback (most recent call last)",
      "\u001b[1;32mC:\\Users\\ZUPKBA~1\\AppData\\Local\\Temp/ipykernel_9188/1931865370.py\u001b[0m in \u001b[0;36m<module>\u001b[1;34m\u001b[0m\n\u001b[1;32m----> 1\u001b[1;33m \u001b[0mdf_pf1\u001b[0m \u001b[1;33m=\u001b[0m \u001b[0mpd\u001b[0m\u001b[1;33m.\u001b[0m\u001b[0mDataFrame\u001b[0m\u001b[1;33m(\u001b[0m\u001b[0mnp\u001b[0m\u001b[1;33m.\u001b[0m\u001b[0mexp\u001b[0m\u001b[1;33m(\u001b[0m\u001b[0my_hat_test1\u001b[0m\u001b[1;33m)\u001b[0m\u001b[1;33m,\u001b[0m \u001b[0mcolumns\u001b[0m\u001b[1;33m=\u001b[0m\u001b[1;33m[\u001b[0m\u001b[1;34m'Prediction'\u001b[0m\u001b[1;33m]\u001b[0m\u001b[1;33m)\u001b[0m\u001b[1;33m\u001b[0m\u001b[1;33m\u001b[0m\u001b[0m\n\u001b[0m\u001b[0;32m      2\u001b[0m \u001b[0my_test1\u001b[0m \u001b[1;33m=\u001b[0m \u001b[0my_test1\u001b[0m\u001b[1;33m.\u001b[0m\u001b[0mreset_index\u001b[0m\u001b[1;33m(\u001b[0m\u001b[0mdrop\u001b[0m\u001b[1;33m=\u001b[0m\u001b[1;32mTrue\u001b[0m\u001b[1;33m)\u001b[0m\u001b[1;33m\u001b[0m\u001b[1;33m\u001b[0m\u001b[0m\n\u001b[0;32m      3\u001b[0m \u001b[0mdf_pf1\u001b[0m\u001b[1;33m[\u001b[0m\u001b[1;34m'Target'\u001b[0m\u001b[1;33m]\u001b[0m \u001b[1;33m=\u001b[0m \u001b[0mnp\u001b[0m\u001b[1;33m.\u001b[0m\u001b[0mexp\u001b[0m\u001b[1;33m(\u001b[0m\u001b[0my_test1\u001b[0m\u001b[1;33m)\u001b[0m\u001b[1;33m\u001b[0m\u001b[1;33m\u001b[0m\u001b[0m\n\u001b[0;32m      4\u001b[0m \u001b[0mdf_pf1\u001b[0m\u001b[1;33m\u001b[0m\u001b[1;33m\u001b[0m\u001b[0m\n",
      "\u001b[1;31mNameError\u001b[0m: name 'y_hat_test1' is not defined"
     ]
    }
   ],
   "source": [
    "df_pf1 = pd.DataFrame(np.exp(y_hat_test1), columns=['Prediction'])\n",
    "y_test1 = y_test1.reset_index(drop=True)\n",
    "df_pf1['Target'] = np.exp(y_test1)\n",
    "df_pf1"
   ]
  },
  {
   "cell_type": "code",
   "execution_count": 34,
   "id": "a5e4893b",
   "metadata": {},
   "outputs": [
    {
     "data": {
      "text/html": [
       "<div>\n",
       "<style scoped>\n",
       "    .dataframe tbody tr th:only-of-type {\n",
       "        vertical-align: middle;\n",
       "    }\n",
       "\n",
       "    .dataframe tbody tr th {\n",
       "        vertical-align: top;\n",
       "    }\n",
       "\n",
       "    .dataframe thead th {\n",
       "        text-align: right;\n",
       "    }\n",
       "</style>\n",
       "<table border=\"1\" class=\"dataframe\">\n",
       "  <thead>\n",
       "    <tr style=\"text-align: right;\">\n",
       "      <th></th>\n",
       "      <th>Prediction</th>\n",
       "      <th>Target</th>\n",
       "    </tr>\n",
       "  </thead>\n",
       "  <tbody>\n",
       "    <tr>\n",
       "      <th>0</th>\n",
       "      <td>13554.529256</td>\n",
       "      <td>12501.0</td>\n",
       "    </tr>\n",
       "    <tr>\n",
       "      <th>1</th>\n",
       "      <td>38734.795026</td>\n",
       "      <td>39421.0</td>\n",
       "    </tr>\n",
       "    <tr>\n",
       "      <th>2</th>\n",
       "      <td>10885.456596</td>\n",
       "      <td>9326.0</td>\n",
       "    </tr>\n",
       "    <tr>\n",
       "      <th>3</th>\n",
       "      <td>5760.130839</td>\n",
       "      <td>5304.0</td>\n",
       "    </tr>\n",
       "    <tr>\n",
       "      <th>4</th>\n",
       "      <td>9846.683353</td>\n",
       "      <td>9302.0</td>\n",
       "    </tr>\n",
       "    <tr>\n",
       "      <th>...</th>\n",
       "      <td>...</td>\n",
       "      <td>...</td>\n",
       "    </tr>\n",
       "    <tr>\n",
       "      <th>7076</th>\n",
       "      <td>18664.149395</td>\n",
       "      <td>15966.0</td>\n",
       "    </tr>\n",
       "    <tr>\n",
       "      <th>7077</th>\n",
       "      <td>2585.820131</td>\n",
       "      <td>1466.0</td>\n",
       "    </tr>\n",
       "    <tr>\n",
       "      <th>7078</th>\n",
       "      <td>7998.204158</td>\n",
       "      <td>7194.0</td>\n",
       "    </tr>\n",
       "    <tr>\n",
       "      <th>7079</th>\n",
       "      <td>6926.761131</td>\n",
       "      <td>6370.0</td>\n",
       "    </tr>\n",
       "    <tr>\n",
       "      <th>7080</th>\n",
       "      <td>3488.372717</td>\n",
       "      <td>3332.0</td>\n",
       "    </tr>\n",
       "  </tbody>\n",
       "</table>\n",
       "<p>7081 rows × 2 columns</p>\n",
       "</div>"
      ],
      "text/plain": [
       "        Prediction   Target\n",
       "0     13554.529256  12501.0\n",
       "1     38734.795026  39421.0\n",
       "2     10885.456596   9326.0\n",
       "3      5760.130839   5304.0\n",
       "4      9846.683353   9302.0\n",
       "...            ...      ...\n",
       "7076  18664.149395  15966.0\n",
       "7077   2585.820131   1466.0\n",
       "7078   7998.204158   7194.0\n",
       "7079   6926.761131   6370.0\n",
       "7080   3488.372717   3332.0\n",
       "\n",
       "[7081 rows x 2 columns]"
      ]
     },
     "execution_count": 34,
     "metadata": {},
     "output_type": "execute_result"
    }
   ],
   "source": [
    "df_pf = pd.DataFrame(np.exp(y_hat_test), columns=['Prediction'])\n",
    "y_test = y_test.reset_index(drop=True)\n",
    "df_pf['Target'] = np.exp(y_test)\n",
    "df_pf"
   ]
  },
  {
   "cell_type": "code",
   "execution_count": 21,
   "id": "9949607f",
   "metadata": {},
   "outputs": [
    {
     "data": {
      "text/plain": [
       "0.9518444084610199"
      ]
     },
     "execution_count": 21,
     "metadata": {},
     "output_type": "execute_result"
    }
   ],
   "source": [
    "sk.metrics.r2_score(y_test, y_hat_test)"
   ]
  },
  {
   "cell_type": "code",
   "execution_count": null,
   "id": "654d6e70",
   "metadata": {},
   "outputs": [],
   "source": [
    "sk.metrics.explained_variance_score(y_test1, y_hat_test1)"
   ]
  },
  {
   "cell_type": "code",
   "execution_count": null,
   "id": "92cdcb0d",
   "metadata": {},
   "outputs": [],
   "source": [
    "sk.metrics.r2_score(y_test, y_hat_test)"
   ]
  },
  {
   "cell_type": "code",
   "execution_count": null,
   "id": "1aad64cb",
   "metadata": {},
   "outputs": [],
   "source": [
    "sk.metrics.mean_squared_error(y_test, y_hat_test)"
   ]
  },
  {
   "cell_type": "markdown",
   "id": "b1610c39",
   "metadata": {},
   "source": [
    "### linear regression with statsmodels"
   ]
  },
  {
   "cell_type": "code",
   "execution_count": null,
   "id": "1968429c",
   "metadata": {},
   "outputs": [],
   "source": [
    "sm.add_constant(inputs)"
   ]
  },
  {
   "cell_type": "code",
   "execution_count": null,
   "id": "0d93656e",
   "metadata": {},
   "outputs": [],
   "source": [
    "results = sm.OLS(targets,inputs).fit()"
   ]
  },
  {
   "cell_type": "code",
   "execution_count": null,
   "id": "0f8b6b7a",
   "metadata": {},
   "outputs": [],
   "source": [
    "results.summary()"
   ]
  },
  {
   "cell_type": "code",
   "execution_count": null,
   "id": "6336db9c",
   "metadata": {},
   "outputs": [],
   "source": [
    "y_hat_test = results.predict(x_test)\n",
    "y_hat_test"
   ]
  },
  {
   "cell_type": "code",
   "execution_count": null,
   "id": "76860411",
   "metadata": {},
   "outputs": [],
   "source": [
    "y_test = y_test.reset_index(drop=True)\n",
    "df_pf['Target'] = np.exp(y_test)\n",
    "df_pf"
   ]
  },
  {
   "cell_type": "markdown",
   "id": "6da0bccd",
   "metadata": {},
   "source": [
    "### usint neural network"
   ]
  },
  {
   "cell_type": "code",
   "execution_count": null,
   "id": "6b54b7ee",
   "metadata": {},
   "outputs": [],
   "source": [
    "x_train1, x_validation, y_train1, y_validation = train_test_split(x_train, y_train, test_size=0.2, random_state=365)"
   ]
  },
  {
   "cell_type": "code",
   "execution_count": null,
   "id": "b566bd4a",
   "metadata": {},
   "outputs": [],
   "source": [
    "np.savez(\"hasznaltauto_data_train\", inputs=x_train1, targets=y_train1)\n",
    "np.savez(\"hasznaltauto_data_validation\", inputs=x_validation, targets=y_validation)\n",
    "np.savez(\"hasznaltauto_data_test\", inputs=x_test, targets=y_test)"
   ]
  },
  {
   "cell_type": "code",
   "execution_count": null,
   "id": "4d0cc94b",
   "metadata": {},
   "outputs": [],
   "source": [
    "data.shape"
   ]
  },
  {
   "cell_type": "code",
   "execution_count": null,
   "id": "3a63b2b8",
   "metadata": {},
   "outputs": [],
   "source": [
    "scaler = pre.StandardScaler()\n",
    "scaler.fit(inputs)\n",
    "transformed = scaler.transform(inputs)\n",
    "inputs = pd.DataFrame(transformed)\n",
    "inputs"
   ]
  },
  {
   "cell_type": "code",
   "execution_count": null,
   "id": "62403c61",
   "metadata": {},
   "outputs": [],
   "source": []
  }
 ],
 "metadata": {
  "kernelspec": {
   "display_name": "Python 3 (ipykernel)",
   "language": "python",
   "name": "python3"
  },
  "language_info": {
   "codemirror_mode": {
    "name": "ipython",
    "version": 3
   },
   "file_extension": ".py",
   "mimetype": "text/x-python",
   "name": "python",
   "nbconvert_exporter": "python",
   "pygments_lexer": "ipython3",
   "version": "3.9.7"
  }
 },
 "nbformat": 4,
 "nbformat_minor": 5
}
